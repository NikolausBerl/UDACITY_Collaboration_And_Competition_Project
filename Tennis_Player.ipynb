{
 "cells": [
  {
   "cell_type": "markdown",
   "metadata": {},
   "source": [
    "### Tennis-Player (part of the Collaboration and Competition-Project)\n",
    "\n",
    "With this Tennis-Player program, it is possible to choos a players level.\n",
    "The Idea behind is, to show how the players behaviour change at different\n",
    "training levels.\n",
    "#### Training-Levels:\n",
    "- player level = 1 -->  poor players \n",
    "    - player_1 with score of 0.1\n",
    "    - player_2 with score of 0.1\n",
    "    \n",
    "- player level = 2 -->  mixed players  \n",
    "    - player_1 with score of 0.1\n",
    "    - player_2 with score of 0.5\n",
    "\n",
    "- player level = 3 -->  mixed players  \n",
    "    - player_1 with score of 0.5\n",
    "    - player_2 with score of 0.5\n",
    " \n",
    "\n",
    "\n",
    "\n",
    "\n"
   ]
  },
  {
   "cell_type": "markdown",
   "metadata": {},
   "source": [
    "####  1. Start the Environment"
   ]
  },
  {
   "cell_type": "code",
   "execution_count": 1,
   "metadata": {},
   "outputs": [],
   "source": [
    "#!pip -q install ./python"
   ]
  },
  {
   "cell_type": "code",
   "execution_count": 2,
   "metadata": {},
   "outputs": [],
   "source": [
    "from unityagents import UnityEnvironment\n",
    "import numpy as np"
   ]
  },
  {
   "cell_type": "markdown",
   "metadata": {},
   "source": [
    "\n"
   ]
  },
  {
   "cell_type": "code",
   "execution_count": 3,
   "metadata": {
    "scrolled": true
   },
   "outputs": [
    {
     "name": "stderr",
     "output_type": "stream",
     "text": [
      "INFO:unityagents:\n",
      "'Academy' started successfully!\n",
      "Unity Academy name: Academy\n",
      "        Number of Brains: 1\n",
      "        Number of External Brains : 1\n",
      "        Lesson number : 0\n",
      "        Reset Parameters :\n",
      "\t\t\n",
      "Unity brain name: TennisBrain\n",
      "        Number of Visual Observations (per agent): 0\n",
      "        Vector Observation space type: continuous\n",
      "        Vector Observation space size (per agent): 8\n",
      "        Number of stacked Vector Observation: 3\n",
      "        Vector Action space type: continuous\n",
      "        Vector Action space size (per agent): 2\n",
      "        Vector Action descriptions: , \n"
     ]
    }
   ],
   "source": [
    "env = UnityEnvironment(file_name=\"Tennis.exe\")"
   ]
  },
  {
   "cell_type": "markdown",
   "metadata": {},
   "source": [
    "#### 2. Get some Tennis-Player environment data"
   ]
  },
  {
   "cell_type": "code",
   "execution_count": 5,
   "metadata": {},
   "outputs": [
    {
     "name": "stdout",
     "output_type": "stream",
     "text": [
      "Number of agents: 2\n",
      "Size of each action: 2\n",
      "There are 2 agents. Each observes a state with length: 24\n",
      "The state for the first agent looks like: [ 0.          0.          0.          0.          0.          0.\n",
      "  0.          0.          0.          0.          0.          0.\n",
      "  0.          0.          0.          0.         -6.69487906 -1.5\n",
      " -0.          0.          6.83172083  5.98822832 -0.          0.        ]\n"
     ]
    }
   ],
   "source": [
    "# reset the environment\n",
    "brain_name = env.brain_names[0]\n",
    "brain = env.brains[brain_name]\n",
    "env_info = env.reset(train_mode=True)[brain_name]\n",
    "# number of agents \n",
    "num_agents = len(env_info.agents)\n",
    "print('Number of agents:', num_agents)\n",
    "\n",
    "# size of each action\n",
    "action_size = brain.vector_action_space_size\n",
    "print('Size of each action:', action_size)\n",
    "\n",
    "# examine the state space \n",
    "states = env_info.vector_observations\n",
    "state_size = states.shape[1]\n",
    "brain_name = env.brain_names[0]\n",
    "brain = env.brains[brain_name]\n",
    "env_info = env.reset(train_mode=True)[brain_name]\n",
    "print('There are {} agents. Each observes a state with length: {}'.format(states.shape[0], state_size))\n",
    "print('The state for the first agent looks like:', states[0])\n",
    "\n",
    "\n",
    "import numpy as np\n",
    "import random\n",
    "import copy\n",
    "import gym\n",
    "\n",
    "import torch\n",
    "import matplotlib.pyplot as plt\n",
    "%matplotlib inline\n",
    "from collections import deque\n",
    "from collections import namedtuple, deque\n",
    "from maddpg_agent import Agent \n"
   ]
  },
  {
   "cell_type": "markdown",
   "metadata": {},
   "source": [
    "#### 3. Method for loading the level-weights: \"set_player_performance\": \n",
    "\n"
   ]
  },
  {
   "cell_type": "code",
   "execution_count": 6,
   "metadata": {},
   "outputs": [],
   "source": [
    "# player-level\n",
    "# 1 = poor players\n",
    "# 2 = mixed players\n",
    "# 3 = good players\n",
    "\n",
    "def set_player_performance (player_performance,agent_player_1, agent_player_2):\n",
    "\n",
    "# player level = 1 -->  poor players\n",
    "# player level = 2 -->  mixed players\n",
    "# player level = 3 -->  good players#\n",
    "\n",
    "    if player_performance == 1: \n",
    "        # Set 1 -->  bad_players: Player_1: score = 0.1\n",
    "        #                         Player_2: score = 0.1\n",
    "        agent_player_1.actor_local.load_state_dict(torch.load('score_01_player_1_checkpoint_actor.pth', map_location='cpu'))\n",
    "        agent_player_2.actor_local.load_state_dict(torch.load('score_01_player_2_checkpoint_actor.pth', map_location='cpu'))\n",
    "        print(\"--level 1--\")                                           \n",
    "    elif player_performance == 2:\n",
    "        # Set 2 with mixed_players: Player_1: score = 0.1\n",
    "        #                           Player_2: score = 0.5    \n",
    "        agent_player_1.actor_local.load_state_dict(torch.load('score_01_player_1_checkpoint_actor.pth', map_location='cpu'))\n",
    "        agent_player_2.actor_local.load_state_dict(torch.load('score_03_player_2_checkpoint_actor.pth', map_location='cpu'))\n",
    "        print(\"--level 2--\")  \n",
    "    elif player_performance == 3:\n",
    "        # Set 3 with good players: Player_1: score = 0.5\n",
    "        #                          Player_2: score = 0.5\n",
    "        agent_player_1.actor_local.load_state_dict(torch.load('score_05_player_1_checkpoint_actor.pth', map_location='cpu'))\n",
    "        agent_player_2.actor_local.load_state_dict(torch.load('score_05_player_2_checkpoint_actor.pth', map_location='cpu'))\n",
    "        print(\"--level 3--\")  \n",
    "    else: \n",
    "        print(\"Player Performance-Set is not valid.\")   \n",
    "\n"
   ]
  },
  {
   "cell_type": "markdown",
   "metadata": {},
   "source": [
    "#### 4. Methode of the Tennis-Player:  \"tennis_player\""
   ]
  },
  {
   "cell_type": "code",
   "execution_count": 7,
   "metadata": {},
   "outputs": [],
   "source": [
    "def tennis_player (max_time_step=1000):\n",
    "   \n",
    "    #env = UnityEnvironment(file_name=\"Tennis.exe\")\n",
    "    \n",
    "    brain_name = env.brain_names[0]\n",
    "    brain = env.brains[brain_name]\n",
    "    env_info = env.reset(train_mode=False)[brain_name]\n",
    "    \n",
    "    # number of agents \n",
    "    num_agents = len(env_info.agents)\n",
    "    # print('Number of agents:', num_agents)\n",
    "\n",
    "    # size of each action\n",
    "    action_size = brain.vector_action_space_size\n",
    "    # print('Size of each action:', action_size)\n",
    "\n",
    "    # examine the state space \n",
    "    states = env_info.vector_observations\n",
    "    state_size = states.shape[1]\n",
    "    \n",
    "    #create agent and run against environment\n",
    "    agent_player_1 = Agent(state_size=state_size, action_size=action_size, num_agents=num_agents, random_seed=24)\n",
    "    agent_player_2 = Agent(state_size=state_size, action_size=action_size, num_agents=num_agents, random_seed=24)\n",
    "    \n",
    "    agent_player_1.reset()\n",
    "    agent_player_2.reset()\n",
    "    \n",
    "    print(\"Please input the player-level:\")\n",
    "    print(\"For poor players  --> input: 1\")\n",
    "    print(\"For mixed players --> input: 2\")\n",
    "    print(\"For good players  --> input: 3\")\n",
    "\n",
    "    player_performance = int(input())\n",
    "    \n",
    "    set_player_performance (player_performance, agent_player_1, agent_player_2)\n",
    "    \n",
    "    #agent_player_2.critic_local.load_state_dict(torch.load('score_05_player_1_checkpoint_critic.pth', map_location='cpu')))\n",
    "    #agent_player_2.critic_local.load_state_dict(torch.load('score_05_player_2_checkpoint_critic.pth', map_location='cpu')))\n",
    "   \n",
    "    add_noise = False\n",
    "    count_steps = 0\n",
    "\n",
    "    for t in range(max_time_step):\n",
    "        # actions = agent.act(states)\n",
    "        actions = np.random.randn(num_agents, action_size)\n",
    "        actions[0] = agent_player_1.act(states[0], add_noise) \n",
    "        actions[1] = agent_player_2.act(states[1], add_noise)\n",
    "            \n",
    "        env_info = env.step(actions)[brain_name]           # send all actions to tne environment\n",
    "        next_states = env_info.vector_observations         # get next state (for each agent) \n",
    "        states = next_states \n",
    "        count_steps  += 1     \n",
    "\n",
    "        if (count_steps > max_time_step):\n",
    "            env.close()\n",
    "            print(\"Tennis player has stopped\")\n",
    "            break\n"
   ]
  },
  {
   "cell_type": "markdown",
   "metadata": {},
   "source": [
    "#### 5. Run the Tennis-Player by entering the the players level (1,2 or 3) in a input-field\n",
    "The Tennis-Player runs for 500 Timesteps.\n",
    "The Timestep can be changed by changing the input-parameter of tennis_player-Methode "
   ]
  },
  {
   "cell_type": "code",
   "execution_count": null,
   "metadata": {},
   "outputs": [
    {
     "name": "stdout",
     "output_type": "stream",
     "text": [
      "Please input the player-level:\n",
      "For poor players  --> input: 1\n",
      "For mixed players --> input: 2\n",
      "For good players  --> input: 3\n",
      "2\n",
      "--level 2--\n"
     ]
    },
    {
     "name": "stderr",
     "output_type": "stream",
     "text": [
      "D:\\Miniconda\\envs\\drlnd\\lib\\site-packages\\torch\\nn\\functional.py:1320: UserWarning: nn.functional.tanh is deprecated. Use torch.tanh instead.\n",
      "  warnings.warn(\"nn.functional.tanh is deprecated. Use torch.tanh instead.\")\n"
     ]
    }
   ],
   "source": [
    "tennis_player(1000)"
   ]
  },
  {
   "cell_type": "code",
   "execution_count": null,
   "metadata": {},
   "outputs": [],
   "source": [
    "\n",
    "    "
   ]
  },
  {
   "cell_type": "code",
   "execution_count": null,
   "metadata": {},
   "outputs": [],
   "source": []
  }
 ],
 "metadata": {
  "kernelspec": {
   "display_name": "Python 3",
   "language": "python",
   "name": "python3"
  },
  "language_info": {
   "codemirror_mode": {
    "name": "ipython",
    "version": 3
   },
   "file_extension": ".py",
   "mimetype": "text/x-python",
   "name": "python",
   "nbconvert_exporter": "python",
   "pygments_lexer": "ipython3",
   "version": "3.6.3"
  }
 },
 "nbformat": 4,
 "nbformat_minor": 2
}
